{
 "cells": [
  {
   "cell_type": "code",
   "execution_count": 76,
   "metadata": {
    "collapsed": false
   },
   "outputs": [],
   "source": [
    "import numpy as np\n",
    "from sklearn import datasets, neighbors, linear_model, tree\n",
    "from sklearn.decomposition import PCA\n",
    "import matplotlib.pyplot as plt\n",
    "%matplotlib inline"
   ]
  },
  {
   "cell_type": "markdown",
   "metadata": {},
   "source": [
    "1. K-nearest neighbors classification\n",
    "======================\n"
   ]
  },
  {
   "cell_type": "markdown",
   "metadata": {},
   "source": [
    "Prepare dataset\n",
    "--------------\n",
    "First we will prepare the dataset. The dataset we choose is a modified  version of the [Iris dataset](https://archive.ics.uci.edu/ml/datasets/Iris). We choose only the first two input feature dimensions viz _sepal-length_ and _sepal-width_ (both in cm) for ease of visualization. "
   ]
  },
  {
   "cell_type": "code",
   "execution_count": 5,
   "metadata": {
    "collapsed": false
   },
   "outputs": [
    {
     "data": {
      "image/png": "[encoded data removed]",
      "text/plain": [
       "<matplotlib.figure.Figure at 0x7f566bebded0>"
      ]
     },
     "metadata": {},
     "output_type": "display_data"
    }
   ],
   "source": [
    "iris = datasets.load_iris()\n",
    "X = iris.data[:,:2] #Choosing only the first two input-features\n",
    "Y = iris.target\n",
    "\n",
    "number_of_samples = len(Y)\n",
    "\n",
    "#Splitting into training, validation and test sets\n",
    "random_indices = np.random.permutation(number_of_samples)\n",
    "#Training set\n",
    "num_training_samples = int(number_of_samples*0.7)\n",
    "x_train = X[random_indices[:num_training_samples]]\n",
    "y_train = Y[random_indices[:num_training_samples]]\n",
    "#Validation set\n",
    "num_validation_samples = int(number_of_samples*0.15)\n",
    "x_val = X[random_indices[num_training_samples : num_training_samples+num_validation_samples]]\n",
    "y_val = Y[random_indices[num_training_samples: num_training_samples+num_validation_samples]]\n",
    "#Test set\n",
    "num_test_samples = int(number_of_samples*0.15)\n",
    "x_test = X[random_indices[-num_test_samples:]]\n",
    "y_test = Y[random_indices[-num_test_samples:]]\n",
    "\n",
    "#Visualizing the training data\n",
    "X_class0 = np.asmatrix([x_train[i] for i in range(len(x_train)) if y_train[i]==0]) #Picking only the first two classes\n",
    "Y_class0 = np.zeros((X_class0.shape[0]),dtype=np.int)\n",
    "X_class1 = np.asmatrix([x_train[i] for i in range(len(x_train)) if y_train[i]==1])\n",
    "Y_class1 = np.ones((X_class1.shape[0]),dtype=np.int)\n",
    "X_class2 = np.asmatrix([x_train[i] for i in range(len(x_train)) if y_train[i]==2])\n",
    "Y_class2 = np.full((X_class2.shape[0]),fill_value=2,dtype=np.int)\n",
    "\n",
    "plt.scatter(X_class0[:,0], X_class0[:,1],color='red')\n",
    "plt.scatter(X_class1[:,0], X_class1[:,1],color='blue')\n",
    "plt.scatter(X_class2[:,0], X_class2[:,1],color='green')\n",
    "plt.xlabel('sepal length')\n",
    "plt.ylabel('sepal width')\n",
    "plt.legend(['class 0','class 1','class 2'])\n",
    "plt.title('Fig 3: Visualization of training data')\n",
    "plt.show()"
   ]
  },
  {
   "cell_type": "markdown",
   "metadata": {},
   "source": [
    "Note that the first class is linearly separable from the other two classes but the second and third classes are not linearly separable from each other."
   ]
  },
  {
   "cell_type": "markdown",
   "metadata": {},
   "source": [
    "K-nearest neighbour classifier algorithm\n",
    "--------------------\n",
    "Now that our training data is ready we will jump right into the classification task. Just to remind you, the K-nearest neighbor is a non-parametric learning algorithm and does not learn an internal model for the training data. Instead it looks up the training set every time it is asked to classify a point and finds out the K nearest neighbors of the query point. The class corresponding to majority of the points is output as the class of the query point."
   ]
  },
  {
   "cell_type": "code",
   "execution_count": 10,
   "metadata": {
    "collapsed": false
   },
   "outputs": [
    {
     "data": {
      "text/plain": [
       "KNeighborsClassifier(algorithm='auto', leaf_size=30, metric='minkowski',\n",
       "           metric_params=None, n_jobs=1, n_neighbors=5, p=2,\n",
       "           weights='uniform')"
      ]
     },
     "execution_count": 10,
     "metadata": {},
     "output_type": "execute_result"
    }
   ],
   "source": [
    "model = neighbors.KNeighborsClassifier(n_neighbors = 5) # K = 5\n",
    "model.fit(x_train, y_train)"
   ]
  },
  {
   "cell_type": "markdown",
   "metadata": {},
   "source": [
    "Visualize the working of the algorithm\n",
    "-------------------------------\n",
    "Let's see how the algorithm works.\n",
    "We choose the first point in the test set as our query point."
   ]
  },
  {
   "cell_type": "code",
   "execution_count": 52,
   "metadata": {
    "collapsed": false
   },
   "outputs": [
    {
     "name": "stdout",
     "output_type": "stream",
     "text": [
      "Query point:  [ 6.3  3.4]\n",
      "True class of query point:  2\n"
     ]
    }
   ],
   "source": [
    "query_point = x_test[17]\n",
    "true_class_of_query_point = y_test[17]\n",
    "print \"Query point: \", query_point\n",
    "print \"True class of query point: \", true_class_of_query_point"
   ]
  },
  {
   "cell_type": "markdown",
   "metadata": {},
   "source": [
    "Let's visualize the point and its K=5 nearest neighbors."
   ]
  },
  {
   "cell_type": "code",
   "execution_count": 74,
   "metadata": {
    "collapsed": false
   },
   "outputs": [
    {
     "name": "stdout",
     "output_type": "stream",
     "text": [
      "The nearest neighbors of the query point are: \n",
      "[[ 6.3  3.3]\n",
      " [ 6.4  3.2]\n",
      " [ 6.4  3.2]\n",
      " [ 6.5  3.2]\n",
      " [ 6.   3.4]]\n",
      "The classes of the nearest neighbors are: \n",
      "[1 2 1 2 1]\n",
      "Predicted class for query point:  1\n"
     ]
    },
    {
     "data": {
      "image/png": "[encoded data removed]",
      "text/plain": [
       "<matplotlib.figure.Figure at 0x7f56679540d0>"
      ]
     },
     "metadata": {},
     "output_type": "display_data"
    }
   ],
   "source": [
    "neighbors_object = neighbors.NearestNeighbors(n_neighbors=5)\n",
    "neighbors_object.fit(x_train)\n",
    "distances_of_nearest_neighbors, indices_of_nearest_neighbors_of_query_point = neighbors_object.kneighbors([query_point])\n",
    "nearest_neighbors_of_query_point = x_train[indices_of_nearest_neighbors_of_query_point[0]]\n",
    "print \"The nearest neighbors of the query point are: \\n\", nearest_neighbors_of_query_point\n",
    "print \"The classes of the nearest neighbors are: \\n\",y_train[indices_of_nearest_neighbors_of_query_point[0]]\n",
    "predicted_class_for_query_point = model.predict([query_point])\n",
    "print \"Predicted class for query point: \", predicted_class_for_query_point[0]\n",
    "\n",
    "plt.scatter(X_class0[:,0], X_class0[:,1],color='red')\n",
    "plt.scatter(X_class1[:,0], X_class1[:,1],color='blue')\n",
    "plt.scatter(X_class2[:,0], X_class2[:,1],color='green')\n",
    "plt.scatter(query_point[0], query_point[1],marker='^',s=50,color='black')\n",
    "plt.scatter(nearest_neighbors_of_query_point[:,0], nearest_neighbors_of_query_point[:,1],marker='s',s=150,color='yellow',alpha=0.30)\n",
    "plt.xlabel('sepal length')\n",
    "plt.ylabel('sepal width')\n",
    "plt.legend(['class 0','class 1','class 2'])\n",
    "plt.title('Fig 3: Working of the K-NN classification algorithm')\n",
    "plt.show()"
   ]
  },
  {
   "cell_type": "markdown",
   "metadata": {
    "collapsed": true
   },
   "source": [
    "The black triangle is the query point. Its 5 nearest neighbors in the training set are marked with yellow boxes. (You can see just 4 of the points bacuse a couple of the class 1 points are overlapping in the feature-subspace we have chosen.) As class 1 is the majority class in the neighborhood of the query point, the classifier assigns class 1 to it."
   ]
  },
  {
   "cell_type": "markdown",
   "metadata": {},
   "source": [
    "Evaluate the performance of K-NN Classifier and compare with decision tree and logistic regression\n",
    "--------------------------\n",
    "Now we will check how K-NN performs alongside parameteric learning models - logistic regression and decision tree classifier that we discussed in the last class"
   ]
  },
  {
   "cell_type": "code",
   "execution_count": 90,
   "metadata": {
    "collapsed": false
   },
   "outputs": [
    {
     "data": {
      "text/plain": [
       "DecisionTreeClassifier(class_weight=None, criterion='gini', max_depth=None,\n",
       "            max_features=None, max_leaf_nodes=None, min_samples_leaf=1,\n",
       "            min_samples_split=2, min_weight_fraction_leaf=0.0,\n",
       "            presort=False, random_state=None, splitter='best')"
      ]
     },
     "execution_count": 90,
     "metadata": {},
     "output_type": "execute_result"
    }
   ],
   "source": [
    "#Define a K-NN classifier \n",
    "knn_ = neighbors.KNeighborsClassifier(n_neighbors=5)\n",
    "knn_.fit(x_train,y_train)\n",
    "\n",
    "#Define a logistic regression classifier\n",
    "logistic_ = linear_model.LogisticRegression(C=1e5)\n",
    "logistic_.fit(x_train,y_train)\n",
    "\n",
    "#Define a decision tree classifier\n",
    "decision_tree_ = tree.DecisionTreeClassifier()\n",
    "decision_tree_.fit(x_train,y_train)\n"
   ]
  },
  {
   "cell_type": "code",
   "execution_count": 95,
   "metadata": {
    "collapsed": true
   },
   "outputs": [],
   "source": [
    "def evaluate_performance(model, x_val, y_val, x_test, y_test):\n",
    "    validation_set_predictions = [model.predict(x_val[i].reshape((1,len(x_val[i]))))[0] for i in range(x_val.shape[0])]\n",
    "    validation_misclassification_percentage = 0\n",
    "    for i in range(len(validation_set_predictions)):\n",
    "        if validation_set_predictions[i]!=y_val[i]:\n",
    "            validation_misclassification_percentage+=1\n",
    "    validation_misclassification_percentage *= 100/len(y_val)\n",
    "#     print 'validation misclassification percentage =', validation_misclassification_percentage, '%'\n",
    "\n",
    "    test_set_predictions = [model.predict(x_test[i].reshape((1,len(x_test[i]))))[0] for i in range(x_test.shape[0])]\n",
    "\n",
    "    test_misclassification_percentage = 0\n",
    "    for i in range(len(test_set_predictions)):\n",
    "        if test_set_predictions[i]!=y_test[i]:\n",
    "            test_misclassification_percentage+=1\n",
    "    test_misclassification_percentage *= 100/len(y_test)\n",
    "#     print 'test misclassification percentage =', test_misclassification_percentage, '%'\n",
    "    return validation_misclassification_percentage, test_misclassification_percentage"
   ]
  },
  {
   "cell_type": "code",
   "execution_count": 97,
   "metadata": {
    "collapsed": false
   },
   "outputs": [
    {
     "name": "stdout",
     "output_type": "stream",
     "text": [
      "Evaluating K-NN classifier:\n",
      "validation misclassification percentage = 24 %\n",
      "test misclassification percentage = 28 %\n",
      "\n",
      "Evaluating logistic regression classifier:\n",
      "validation misclassification percentage = 36 %\n",
      "test misclassification percentage = 8 %\n",
      "\n",
      "Evaluating decision tree classifier:\n",
      "validation misclassification percentage = 44 %\n",
      "test misclassification percentage = 36 %\n"
     ]
    }
   ],
   "source": [
    "#Evaluate the performances on the validation and test sets\n",
    "print \"Evaluating K-NN classifier:\"\n",
    "val_err,test_err = evaluate_performance(knn_, x_val, y_val, x_test, y_test)\n",
    "print 'validation misclassification percentage =', val_err, '%'\n",
    "print 'test misclassification percentage =', test_err, '%'\n",
    "\n",
    "print \"\\nEvaluating logistic regression classifier:\"\n",
    "val_err,test_err = evaluate_performance(logistic_, x_val, y_val, x_test, y_test)\n",
    "print 'validation misclassification percentage =', val_err, '%'\n",
    "print 'test misclassification percentage =', test_err, '%'\n",
    "\n",
    "print \"\\nEvaluating decision tree classifier:\"\n",
    "val_err,test_err = evaluate_performance(decision_tree_, x_val, y_val, x_test, y_test)\n",
    "print 'validation misclassification percentage =', val_err, '%'\n",
    "print 'test misclassification percentage =', test_err, '%'"
   ]
  },
  {
   "cell_type": "markdown",
   "metadata": {},
   "source": [
    "Variation of accuracy with increasing values of K\n",
    "---------------------------------------\n",
    "Now we will see how the accuracies change with the number of nearest neighbors chosen.\n"
   ]
  },
  {
   "cell_type": "code",
   "execution_count": 104,
   "metadata": {
    "collapsed": false
   },
   "outputs": [
    {
     "data": {
      "image/png": "[encoded data removed]",
      "text/plain": [
       "<matplotlib.figure.Figure at 0x7f56679c9450>"
      ]
     },
     "metadata": {},
     "output_type": "display_data"
    }
   ],
   "source": [
    "validation_error = []\n",
    "test_error = []\n",
    "\n",
    "for K in range(1,20):\n",
    "    model = neighbors.KNeighborsClassifier(n_neighbors=K)\n",
    "    model.fit(x_train,y_train)\n",
    "    val_err,test_err = evaluate_performance(model,x_val,y_val,x_test,y_test)\n",
    "    validation_error.append(val_err)\n",
    "    test_error.append(test_err)\n",
    "\n",
    "plt.figure()\n",
    "plt.plot(validation_error,color='red')\n",
    "plt.plot(test_error,color='green')\n",
    "plt.show()"
   ]
  },
  {
   "cell_type": "markdown",
   "metadata": {},
   "source": [
    "2. Principal Components Analysis\n",
    "==========================\n"
   ]
  },
  {
   "cell_type": "markdown",
   "metadata": {},
   "source": [
    "In this section we will use Principal Components Analysis for visualization of high dimensional data."
   ]
  },
  {
   "cell_type": "code",
   "execution_count": 108,
   "metadata": {
    "collapsed": false
   },
   "outputs": [],
   "source": [
    "import pickle as pkl\n",
    "with open('chosen_vectors.pkl','rb') as f:\n",
    "    data = pkl.load(f)\n",
    "    word_vectors = data['vectors']\n",
    "projected_word_vectors = {}\n",
    "pca_ = PCA(n_components=2)\n",
    "pca_.fit([word_vectors[word] for word in word_vectors.keys()])\n",
    "desired_words = ['man','woman','king','queen','london','britain','india','delhi','apple','orange']\n",
    "for word in desired_words:\n",
    "    projected_word_vectors[word] = pca_.transform([word_vectors[word]])[0]\n"
   ]
  },
  {
   "cell_type": "code",
   "execution_count": 110,
   "metadata": {
    "collapsed": false
   },
   "outputs": [
    {
     "name": "stdout",
     "output_type": "stream",
     "text": [
      "{'king': array([-1.54884182,  1.1187226 ]), 'delhi': array([ 0.24505898,  1.30828627]), 'woman': array([-0.91586747,  0.44496269]), 'apple': array([-0.01413879, -1.80052337]), 'queen': array([-1.8746237 ,  0.20482741]), 'india': array([ 1.05841172,  0.77805937]), 'britain': array([ 0.45045949,  1.21593306]), 'london': array([-0.88920353,  0.30453175]), 'orange': array([-0.82066137, -1.05636473]), 'man': array([-1.09175045,  0.36508351])}\n"
     ]
    }
   ],
   "source": [
    "print projected_word_vectors"
   ]
  },
  {
   "cell_type": "code",
   "execution_count": 123,
   "metadata": {
    "collapsed": false
   },
   "outputs": [
    {
     "data": {
      "image/png": "[encoded data removed]",
      "text/plain": [
       "<matplotlib.figure.Figure at 0x7f56677f7d50>"
      ]
     },
     "metadata": {},
     "output_type": "display_data"
    }
   ],
   "source": [
    "# just_vectors = np.asmatrix([projected_word_vectors[word] for word in projected_word_vectors.keys()])\n",
    "# just_vectors.shape\n",
    "plt.figure()\n",
    "for word in projected_word_vectors:\n",
    "    plt.scatter(projected_word_vectors[word][0], projected_word_vectors[word][0], s=1000, marker='$'+word+'$')\n",
    "plt.show()"
   ]
  }
 ],
 "metadata": {
  "kernelspec": {
   "display_name": "Python 2",
   "language": "python",
   "name": "python2"
  },
  "language_info": {
   "codemirror_mode": {
    "name": "ipython",
    "version": 2
   },
   "file_extension": ".py",
   "mimetype": "text/x-python",
   "name": "python",
   "nbconvert_exporter": "python",
   "pygments_lexer": "ipython2",
   "version": "2.7.6"
  }
 },
 "nbformat": 4,
 "nbformat_minor": 0
}
